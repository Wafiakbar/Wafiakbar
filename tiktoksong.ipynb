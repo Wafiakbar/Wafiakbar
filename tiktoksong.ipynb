{
  "nbformat": 4,
  "nbformat_minor": 0,
  "metadata": {
    "colab": {
      "provenance": [],
      "include_colab_link": true
    },
    "kernelspec": {
      "name": "python3",
      "display_name": "Python 3"
    },
    "language_info": {
      "name": "python"
    }
  },
  "cells": [
    {
      "cell_type": "markdown",
      "metadata": {
        "id": "view-in-github",
        "colab_type": "text"
      },
      "source": [
        "<a href=\"https://colab.research.google.com/github/Wafiakbar/Wafiakbar/blob/main/tiktoksong.ipynb\" target=\"_parent\"><img src=\"https://colab.research.google.com/assets/colab-badge.svg\" alt=\"Open In Colab\"/></a>"
      ]
    },
    {
      "cell_type": "markdown",
      "source": [
        "## Step 1: Import libraries"
      ],
      "metadata": {
        "id": "Q-MpIVVT3C9V"
      }
    },
    {
      "cell_type": "code",
      "execution_count": 1,
      "metadata": {
        "id": "hdRVe1Sx1i2f"
      },
      "outputs": [],
      "source": [
        "import pandas as pd\n",
        "import numpy as np\n",
        "import matplotlib.pyplot as plt\n",
        "import seaborn as sns\n",
        "from sklearn.cluster import KMeans\n",
        "from sklearn.preprocessing import StandardScaler"
      ]
    },
    {
      "cell_type": "markdown",
      "source": [
        "##Step 2: Load dataset"
      ],
      "metadata": {
        "id": "JQcbxTEa3JqP"
      }
    },
    {
      "cell_type": "code",
      "source": [
        "df = pd.read_csv('/content/TikTok_songs_2022.csv')\n",
        "df.head()"
      ],
      "metadata": {
        "colab": {
          "base_uri": "https://localhost:8080/",
          "height": 347
        },
        "id": "60VyRN0c1rsL",
        "outputId": "c6ede0e7-5a5b-43ef-b8ae-4ff4c64cc61d"
      },
      "execution_count": 2,
      "outputs": [
        {
          "output_type": "execute_result",
          "data": {
            "text/plain": [
              "                               track_name    artist_name  artist_pop  \\\n",
              "0  Running Up That Hill (A Deal With God)      Kate Bush          81   \n",
              "1                               As It Was   Harry Styles          91   \n",
              "2                                 Sunroof    Nicky Youre          73   \n",
              "3                              Heat Waves  Glass Animals          80   \n",
              "4                         About Damn Time          Lizzo          81   \n",
              "\n",
              "                        album  track_pop  danceability  energy  loudness  \\\n",
              "0              Hounds Of Love         95         0.629   0.547   -13.123   \n",
              "1                   As It Was         96         0.520   0.731    -5.338   \n",
              "2                     Sunroof         44         0.768   0.716    -5.110   \n",
              "3  Dreamland (+ Bonus Levels)         89         0.761   0.525    -6.900   \n",
              "4             About Damn Time         92         0.836   0.743    -6.305   \n",
              "\n",
              "   mode  key  speechiness  acousticness  instrumentalness  liveness  valence  \\\n",
              "0     0   10       0.0550        0.7200          0.003140    0.0604    0.197   \n",
              "1     0    6       0.0557        0.3420          0.001010    0.3110    0.662   \n",
              "2     1   10       0.0404        0.3500          0.000000    0.1500    0.841   \n",
              "3     1   11       0.0944        0.4400          0.000007    0.0921    0.531   \n",
              "4     0   10       0.0656        0.0995          0.000000    0.3350    0.722   \n",
              "\n",
              "     tempo  time_signature  duration_ms  \n",
              "0  108.375               4       298933  \n",
              "1  173.930               4       167303  \n",
              "2  131.430               4       163026  \n",
              "3   80.870               4       238805  \n",
              "4  108.966               4       191822  "
            ],
            "text/html": [
              "\n",
              "  <div id=\"df-8d9428bd-3126-4017-b47e-84cabcb82ff7\" class=\"colab-df-container\">\n",
              "    <div>\n",
              "<style scoped>\n",
              "    .dataframe tbody tr th:only-of-type {\n",
              "        vertical-align: middle;\n",
              "    }\n",
              "\n",
              "    .dataframe tbody tr th {\n",
              "        vertical-align: top;\n",
              "    }\n",
              "\n",
              "    .dataframe thead th {\n",
              "        text-align: right;\n",
              "    }\n",
              "</style>\n",
              "<table border=\"1\" class=\"dataframe\">\n",
              "  <thead>\n",
              "    <tr style=\"text-align: right;\">\n",
              "      <th></th>\n",
              "      <th>track_name</th>\n",
              "      <th>artist_name</th>\n",
              "      <th>artist_pop</th>\n",
              "      <th>album</th>\n",
              "      <th>track_pop</th>\n",
              "      <th>danceability</th>\n",
              "      <th>energy</th>\n",
              "      <th>loudness</th>\n",
              "      <th>mode</th>\n",
              "      <th>key</th>\n",
              "      <th>speechiness</th>\n",
              "      <th>acousticness</th>\n",
              "      <th>instrumentalness</th>\n",
              "      <th>liveness</th>\n",
              "      <th>valence</th>\n",
              "      <th>tempo</th>\n",
              "      <th>time_signature</th>\n",
              "      <th>duration_ms</th>\n",
              "    </tr>\n",
              "  </thead>\n",
              "  <tbody>\n",
              "    <tr>\n",
              "      <th>0</th>\n",
              "      <td>Running Up That Hill (A Deal With God)</td>\n",
              "      <td>Kate Bush</td>\n",
              "      <td>81</td>\n",
              "      <td>Hounds Of Love</td>\n",
              "      <td>95</td>\n",
              "      <td>0.629</td>\n",
              "      <td>0.547</td>\n",
              "      <td>-13.123</td>\n",
              "      <td>0</td>\n",
              "      <td>10</td>\n",
              "      <td>0.0550</td>\n",
              "      <td>0.7200</td>\n",
              "      <td>0.003140</td>\n",
              "      <td>0.0604</td>\n",
              "      <td>0.197</td>\n",
              "      <td>108.375</td>\n",
              "      <td>4</td>\n",
              "      <td>298933</td>\n",
              "    </tr>\n",
              "    <tr>\n",
              "      <th>1</th>\n",
              "      <td>As It Was</td>\n",
              "      <td>Harry Styles</td>\n",
              "      <td>91</td>\n",
              "      <td>As It Was</td>\n",
              "      <td>96</td>\n",
              "      <td>0.520</td>\n",
              "      <td>0.731</td>\n",
              "      <td>-5.338</td>\n",
              "      <td>0</td>\n",
              "      <td>6</td>\n",
              "      <td>0.0557</td>\n",
              "      <td>0.3420</td>\n",
              "      <td>0.001010</td>\n",
              "      <td>0.3110</td>\n",
              "      <td>0.662</td>\n",
              "      <td>173.930</td>\n",
              "      <td>4</td>\n",
              "      <td>167303</td>\n",
              "    </tr>\n",
              "    <tr>\n",
              "      <th>2</th>\n",
              "      <td>Sunroof</td>\n",
              "      <td>Nicky Youre</td>\n",
              "      <td>73</td>\n",
              "      <td>Sunroof</td>\n",
              "      <td>44</td>\n",
              "      <td>0.768</td>\n",
              "      <td>0.716</td>\n",
              "      <td>-5.110</td>\n",
              "      <td>1</td>\n",
              "      <td>10</td>\n",
              "      <td>0.0404</td>\n",
              "      <td>0.3500</td>\n",
              "      <td>0.000000</td>\n",
              "      <td>0.1500</td>\n",
              "      <td>0.841</td>\n",
              "      <td>131.430</td>\n",
              "      <td>4</td>\n",
              "      <td>163026</td>\n",
              "    </tr>\n",
              "    <tr>\n",
              "      <th>3</th>\n",
              "      <td>Heat Waves</td>\n",
              "      <td>Glass Animals</td>\n",
              "      <td>80</td>\n",
              "      <td>Dreamland (+ Bonus Levels)</td>\n",
              "      <td>89</td>\n",
              "      <td>0.761</td>\n",
              "      <td>0.525</td>\n",
              "      <td>-6.900</td>\n",
              "      <td>1</td>\n",
              "      <td>11</td>\n",
              "      <td>0.0944</td>\n",
              "      <td>0.4400</td>\n",
              "      <td>0.000007</td>\n",
              "      <td>0.0921</td>\n",
              "      <td>0.531</td>\n",
              "      <td>80.870</td>\n",
              "      <td>4</td>\n",
              "      <td>238805</td>\n",
              "    </tr>\n",
              "    <tr>\n",
              "      <th>4</th>\n",
              "      <td>About Damn Time</td>\n",
              "      <td>Lizzo</td>\n",
              "      <td>81</td>\n",
              "      <td>About Damn Time</td>\n",
              "      <td>92</td>\n",
              "      <td>0.836</td>\n",
              "      <td>0.743</td>\n",
              "      <td>-6.305</td>\n",
              "      <td>0</td>\n",
              "      <td>10</td>\n",
              "      <td>0.0656</td>\n",
              "      <td>0.0995</td>\n",
              "      <td>0.000000</td>\n",
              "      <td>0.3350</td>\n",
              "      <td>0.722</td>\n",
              "      <td>108.966</td>\n",
              "      <td>4</td>\n",
              "      <td>191822</td>\n",
              "    </tr>\n",
              "  </tbody>\n",
              "</table>\n",
              "</div>\n",
              "    <div class=\"colab-df-buttons\">\n",
              "\n",
              "  <div class=\"colab-df-container\">\n",
              "    <button class=\"colab-df-convert\" onclick=\"convertToInteractive('df-8d9428bd-3126-4017-b47e-84cabcb82ff7')\"\n",
              "            title=\"Convert this dataframe to an interactive table.\"\n",
              "            style=\"display:none;\">\n",
              "\n",
              "  <svg xmlns=\"http://www.w3.org/2000/svg\" height=\"24px\" viewBox=\"0 -960 960 960\">\n",
              "    <path d=\"M120-120v-720h720v720H120Zm60-500h600v-160H180v160Zm220 220h160v-160H400v160Zm0 220h160v-160H400v160ZM180-400h160v-160H180v160Zm440 0h160v-160H620v160ZM180-180h160v-160H180v160Zm440 0h160v-160H620v160Z\"/>\n",
              "  </svg>\n",
              "    </button>\n",
              "\n",
              "  <style>\n",
              "    .colab-df-container {\n",
              "      display:flex;\n",
              "      gap: 12px;\n",
              "    }\n",
              "\n",
              "    .colab-df-convert {\n",
              "      background-color: #E8F0FE;\n",
              "      border: none;\n",
              "      border-radius: 50%;\n",
              "      cursor: pointer;\n",
              "      display: none;\n",
              "      fill: #1967D2;\n",
              "      height: 32px;\n",
              "      padding: 0 0 0 0;\n",
              "      width: 32px;\n",
              "    }\n",
              "\n",
              "    .colab-df-convert:hover {\n",
              "      background-color: #E2EBFA;\n",
              "      box-shadow: 0px 1px 2px rgba(60, 64, 67, 0.3), 0px 1px 3px 1px rgba(60, 64, 67, 0.15);\n",
              "      fill: #174EA6;\n",
              "    }\n",
              "\n",
              "    .colab-df-buttons div {\n",
              "      margin-bottom: 4px;\n",
              "    }\n",
              "\n",
              "    [theme=dark] .colab-df-convert {\n",
              "      background-color: #3B4455;\n",
              "      fill: #D2E3FC;\n",
              "    }\n",
              "\n",
              "    [theme=dark] .colab-df-convert:hover {\n",
              "      background-color: #434B5C;\n",
              "      box-shadow: 0px 1px 3px 1px rgba(0, 0, 0, 0.15);\n",
              "      filter: drop-shadow(0px 1px 2px rgba(0, 0, 0, 0.3));\n",
              "      fill: #FFFFFF;\n",
              "    }\n",
              "  </style>\n",
              "\n",
              "    <script>\n",
              "      const buttonEl =\n",
              "        document.querySelector('#df-8d9428bd-3126-4017-b47e-84cabcb82ff7 button.colab-df-convert');\n",
              "      buttonEl.style.display =\n",
              "        google.colab.kernel.accessAllowed ? 'block' : 'none';\n",
              "\n",
              "      async function convertToInteractive(key) {\n",
              "        const element = document.querySelector('#df-8d9428bd-3126-4017-b47e-84cabcb82ff7');\n",
              "        const dataTable =\n",
              "          await google.colab.kernel.invokeFunction('convertToInteractive',\n",
              "                                                    [key], {});\n",
              "        if (!dataTable) return;\n",
              "\n",
              "        const docLinkHtml = 'Like what you see? Visit the ' +\n",
              "          '<a target=\"_blank\" href=https://colab.research.google.com/notebooks/data_table.ipynb>data table notebook</a>'\n",
              "          + ' to learn more about interactive tables.';\n",
              "        element.innerHTML = '';\n",
              "        dataTable['output_type'] = 'display_data';\n",
              "        await google.colab.output.renderOutput(dataTable, element);\n",
              "        const docLink = document.createElement('div');\n",
              "        docLink.innerHTML = docLinkHtml;\n",
              "        element.appendChild(docLink);\n",
              "      }\n",
              "    </script>\n",
              "  </div>\n",
              "\n",
              "\n",
              "<div id=\"df-d948575b-ebcb-4e48-a606-bf6c8f86ac13\">\n",
              "  <button class=\"colab-df-quickchart\" onclick=\"quickchart('df-d948575b-ebcb-4e48-a606-bf6c8f86ac13')\"\n",
              "            title=\"Suggest charts\"\n",
              "            style=\"display:none;\">\n",
              "\n",
              "<svg xmlns=\"http://www.w3.org/2000/svg\" height=\"24px\"viewBox=\"0 0 24 24\"\n",
              "     width=\"24px\">\n",
              "    <g>\n",
              "        <path d=\"M19 3H5c-1.1 0-2 .9-2 2v14c0 1.1.9 2 2 2h14c1.1 0 2-.9 2-2V5c0-1.1-.9-2-2-2zM9 17H7v-7h2v7zm4 0h-2V7h2v10zm4 0h-2v-4h2v4z\"/>\n",
              "    </g>\n",
              "</svg>\n",
              "  </button>\n",
              "\n",
              "<style>\n",
              "  .colab-df-quickchart {\n",
              "      --bg-color: #E8F0FE;\n",
              "      --fill-color: #1967D2;\n",
              "      --hover-bg-color: #E2EBFA;\n",
              "      --hover-fill-color: #174EA6;\n",
              "      --disabled-fill-color: #AAA;\n",
              "      --disabled-bg-color: #DDD;\n",
              "  }\n",
              "\n",
              "  [theme=dark] .colab-df-quickchart {\n",
              "      --bg-color: #3B4455;\n",
              "      --fill-color: #D2E3FC;\n",
              "      --hover-bg-color: #434B5C;\n",
              "      --hover-fill-color: #FFFFFF;\n",
              "      --disabled-bg-color: #3B4455;\n",
              "      --disabled-fill-color: #666;\n",
              "  }\n",
              "\n",
              "  .colab-df-quickchart {\n",
              "    background-color: var(--bg-color);\n",
              "    border: none;\n",
              "    border-radius: 50%;\n",
              "    cursor: pointer;\n",
              "    display: none;\n",
              "    fill: var(--fill-color);\n",
              "    height: 32px;\n",
              "    padding: 0;\n",
              "    width: 32px;\n",
              "  }\n",
              "\n",
              "  .colab-df-quickchart:hover {\n",
              "    background-color: var(--hover-bg-color);\n",
              "    box-shadow: 0 1px 2px rgba(60, 64, 67, 0.3), 0 1px 3px 1px rgba(60, 64, 67, 0.15);\n",
              "    fill: var(--button-hover-fill-color);\n",
              "  }\n",
              "\n",
              "  .colab-df-quickchart-complete:disabled,\n",
              "  .colab-df-quickchart-complete:disabled:hover {\n",
              "    background-color: var(--disabled-bg-color);\n",
              "    fill: var(--disabled-fill-color);\n",
              "    box-shadow: none;\n",
              "  }\n",
              "\n",
              "  .colab-df-spinner {\n",
              "    border: 2px solid var(--fill-color);\n",
              "    border-color: transparent;\n",
              "    border-bottom-color: var(--fill-color);\n",
              "    animation:\n",
              "      spin 1s steps(1) infinite;\n",
              "  }\n",
              "\n",
              "  @keyframes spin {\n",
              "    0% {\n",
              "      border-color: transparent;\n",
              "      border-bottom-color: var(--fill-color);\n",
              "      border-left-color: var(--fill-color);\n",
              "    }\n",
              "    20% {\n",
              "      border-color: transparent;\n",
              "      border-left-color: var(--fill-color);\n",
              "      border-top-color: var(--fill-color);\n",
              "    }\n",
              "    30% {\n",
              "      border-color: transparent;\n",
              "      border-left-color: var(--fill-color);\n",
              "      border-top-color: var(--fill-color);\n",
              "      border-right-color: var(--fill-color);\n",
              "    }\n",
              "    40% {\n",
              "      border-color: transparent;\n",
              "      border-right-color: var(--fill-color);\n",
              "      border-top-color: var(--fill-color);\n",
              "    }\n",
              "    60% {\n",
              "      border-color: transparent;\n",
              "      border-right-color: var(--fill-color);\n",
              "    }\n",
              "    80% {\n",
              "      border-color: transparent;\n",
              "      border-right-color: var(--fill-color);\n",
              "      border-bottom-color: var(--fill-color);\n",
              "    }\n",
              "    90% {\n",
              "      border-color: transparent;\n",
              "      border-bottom-color: var(--fill-color);\n",
              "    }\n",
              "  }\n",
              "</style>\n",
              "\n",
              "  <script>\n",
              "    async function quickchart(key) {\n",
              "      const quickchartButtonEl =\n",
              "        document.querySelector('#' + key + ' button');\n",
              "      quickchartButtonEl.disabled = true;  // To prevent multiple clicks.\n",
              "      quickchartButtonEl.classList.add('colab-df-spinner');\n",
              "      try {\n",
              "        const charts = await google.colab.kernel.invokeFunction(\n",
              "            'suggestCharts', [key], {});\n",
              "      } catch (error) {\n",
              "        console.error('Error during call to suggestCharts:', error);\n",
              "      }\n",
              "      quickchartButtonEl.classList.remove('colab-df-spinner');\n",
              "      quickchartButtonEl.classList.add('colab-df-quickchart-complete');\n",
              "    }\n",
              "    (() => {\n",
              "      let quickchartButtonEl =\n",
              "        document.querySelector('#df-d948575b-ebcb-4e48-a606-bf6c8f86ac13 button');\n",
              "      quickchartButtonEl.style.display =\n",
              "        google.colab.kernel.accessAllowed ? 'block' : 'none';\n",
              "    })();\n",
              "  </script>\n",
              "</div>\n",
              "\n",
              "    </div>\n",
              "  </div>\n"
            ],
            "application/vnd.google.colaboratory.intrinsic+json": {
              "type": "dataframe",
              "variable_name": "df",
              "summary": "{\n  \"name\": \"df\",\n  \"rows\": 263,\n  \"fields\": [\n    {\n      \"column\": \"track_name\",\n      \"properties\": {\n        \"dtype\": \"string\",\n        \"num_unique_values\": 258,\n        \"samples\": [\n          \"Cold Heart - PNAU Remix\",\n          \"1, 2, 3 (feat. Jason Derulo & De La Ghetto)\",\n          \"First Class\"\n        ],\n        \"semantic_type\": \"\",\n        \"description\": \"\"\n      }\n    },\n    {\n      \"column\": \"artist_name\",\n      \"properties\": {\n        \"dtype\": \"string\",\n        \"num_unique_values\": 199,\n        \"samples\": [\n          \"M\\u00e5neskin\",\n          \"Anitta\",\n          \"Ariana Grande\"\n        ],\n        \"semantic_type\": \"\",\n        \"description\": \"\"\n      }\n    },\n    {\n      \"column\": \"artist_pop\",\n      \"properties\": {\n        \"dtype\": \"number\",\n        \"std\": 18,\n        \"min\": 18,\n        \"max\": 95,\n        \"num_unique_values\": 66,\n        \"samples\": [\n          55,\n          18,\n          81\n        ],\n        \"semantic_type\": \"\",\n        \"description\": \"\"\n      }\n    },\n    {\n      \"column\": \"album\",\n      \"properties\": {\n        \"dtype\": \"string\",\n        \"num_unique_values\": 251,\n        \"samples\": [\n          \"Forever\",\n          \"Gemini Rights\",\n          \"Rude Boy\"\n        ],\n        \"semantic_type\": \"\",\n        \"description\": \"\"\n      }\n    },\n    {\n      \"column\": \"track_pop\",\n      \"properties\": {\n        \"dtype\": \"number\",\n        \"std\": 24,\n        \"min\": 0,\n        \"max\": 97,\n        \"num_unique_values\": 71,\n        \"samples\": [\n          81,\n          95,\n          38\n        ],\n        \"semantic_type\": \"\",\n        \"description\": \"\"\n      }\n    },\n    {\n      \"column\": \"danceability\",\n      \"properties\": {\n        \"dtype\": \"number\",\n        \"std\": 0.11772235550321887,\n        \"min\": 0.308,\n        \"max\": 0.961,\n        \"num_unique_values\": 195,\n        \"samples\": [\n          0.436,\n          0.802,\n          0.863\n        ],\n        \"semantic_type\": \"\",\n        \"description\": \"\"\n      }\n    },\n    {\n      \"column\": \"energy\",\n      \"properties\": {\n        \"dtype\": \"number\",\n        \"std\": 0.14175577353152635,\n        \"min\": 0.214,\n        \"max\": 0.955,\n        \"num_unique_values\": 207,\n        \"samples\": [\n          0.919,\n          0.736,\n          0.894\n        ],\n        \"semantic_type\": \"\",\n        \"description\": \"\"\n      }\n    },\n    {\n      \"column\": \"loudness\",\n      \"properties\": {\n        \"dtype\": \"number\",\n        \"std\": 1.9051135223968072,\n        \"min\": -13.468,\n        \"max\": -2.634,\n        \"num_unique_values\": 257,\n        \"samples\": [\n          -7.509,\n          -5.279,\n          -4.175\n        ],\n        \"semantic_type\": \"\",\n        \"description\": \"\"\n      }\n    },\n    {\n      \"column\": \"mode\",\n      \"properties\": {\n        \"dtype\": \"number\",\n        \"std\": 0,\n        \"min\": 0,\n        \"max\": 1,\n        \"num_unique_values\": 2,\n        \"samples\": [\n          1,\n          0\n        ],\n        \"semantic_type\": \"\",\n        \"description\": \"\"\n      }\n    },\n    {\n      \"column\": \"key\",\n      \"properties\": {\n        \"dtype\": \"number\",\n        \"std\": 3,\n        \"min\": 0,\n        \"max\": 11,\n        \"num_unique_values\": 12,\n        \"samples\": [\n          3,\n          7\n        ],\n        \"semantic_type\": \"\",\n        \"description\": \"\"\n      }\n    },\n    {\n      \"column\": \"speechiness\",\n      \"properties\": {\n        \"dtype\": \"number\",\n        \"std\": 0.10141657375590121,\n        \"min\": 0.0252,\n        \"max\": 0.481,\n        \"num_unique_values\": 242,\n        \"samples\": [\n          0.0288,\n          0.0355\n        ],\n        \"semantic_type\": \"\",\n        \"description\": \"\"\n      }\n    },\n    {\n      \"column\": \"acousticness\",\n      \"properties\": {\n        \"dtype\": \"number\",\n        \"std\": 0.2145884060465474,\n        \"min\": 3.84e-05,\n        \"max\": 0.965,\n        \"num_unique_values\": 244,\n        \"samples\": [\n          0.727,\n          0.613\n        ],\n        \"semantic_type\": \"\",\n        \"description\": \"\"\n      }\n    },\n    {\n      \"column\": \"instrumentalness\",\n      \"properties\": {\n        \"dtype\": \"number\",\n        \"std\": 0.10936952480543337,\n        \"min\": 0.0,\n        \"max\": 0.939,\n        \"num_unique_values\": 138,\n        \"samples\": [\n          1.31e-05,\n          0.000308\n        ],\n        \"semantic_type\": \"\",\n        \"description\": \"\"\n      }\n    },\n    {\n      \"column\": \"liveness\",\n      \"properties\": {\n        \"dtype\": \"number\",\n        \"std\": 0.15180828988680442,\n        \"min\": 0.0265,\n        \"max\": 0.79,\n        \"num_unique_values\": 206,\n        \"samples\": [\n          0.307,\n          0.113\n        ],\n        \"semantic_type\": \"\",\n        \"description\": \"\"\n      }\n    },\n    {\n      \"column\": \"valence\",\n      \"properties\": {\n        \"dtype\": \"number\",\n        \"std\": 0.22075699082290595,\n        \"min\": 0.0363,\n        \"max\": 0.956,\n        \"num_unique_values\": 228,\n        \"samples\": [\n          0.462,\n          0.654\n        ],\n        \"semantic_type\": \"\",\n        \"description\": \"\"\n      }\n    },\n    {\n      \"column\": \"tempo\",\n      \"properties\": {\n        \"dtype\": \"number\",\n        \"std\": 24.39668649848978,\n        \"min\": 62.948,\n        \"max\": 187.906,\n        \"num_unique_values\": 257,\n        \"samples\": [\n          121.002,\n          123.97\n        ],\n        \"semantic_type\": \"\",\n        \"description\": \"\"\n      }\n    },\n    {\n      \"column\": \"time_signature\",\n      \"properties\": {\n        \"dtype\": \"number\",\n        \"std\": 0,\n        \"min\": 1,\n        \"max\": 5,\n        \"num_unique_values\": 4,\n        \"samples\": [\n          3,\n          1\n        ],\n        \"semantic_type\": \"\",\n        \"description\": \"\"\n      }\n    },\n    {\n      \"column\": \"duration_ms\",\n      \"properties\": {\n        \"dtype\": \"number\",\n        \"std\": 34785,\n        \"min\": 85742,\n        \"max\": 298933,\n        \"num_unique_values\": 260,\n        \"samples\": [\n          134330,\n          190476\n        ],\n        \"semantic_type\": \"\",\n        \"description\": \"\"\n      }\n    }\n  ]\n}"
            }
          },
          "metadata": {},
          "execution_count": 2
        }
      ]
    },
    {
      "cell_type": "markdown",
      "source": [
        "Data dimuat dari file CSV yang berisi informasi lagu TikTok tahun 2022.\n",
        "df.head() digunakan untuk melihat 5 baris pertama dari dataset guna memastikan data telah dimuat dengan benar."
      ],
      "metadata": {
        "id": "AGRgNEFyDp7a"
      }
    },
    {
      "cell_type": "markdown",
      "source": [
        "## Step 3: Bersihkan nama kolom dan cek isi"
      ],
      "metadata": {
        "id": "O3yRO3wT3W1k"
      }
    },
    {
      "cell_type": "code",
      "source": [
        "df.columns = df.columns.str.strip().str.lower()\n",
        "print(df.columns.tolist())\n",
        "print(df.isnull().sum())\n"
      ],
      "metadata": {
        "colab": {
          "base_uri": "https://localhost:8080/"
        },
        "id": "L95crBGJ3SDk",
        "outputId": "201d2c24-5f93-4ca8-c1cb-8094ff5f1e9d"
      },
      "execution_count": 3,
      "outputs": [
        {
          "output_type": "stream",
          "name": "stdout",
          "text": [
            "['track_name', 'artist_name', 'artist_pop', 'album', 'track_pop', 'danceability', 'energy', 'loudness', 'mode', 'key', 'speechiness', 'acousticness', 'instrumentalness', 'liveness', 'valence', 'tempo', 'time_signature', 'duration_ms']\n",
            "track_name          0\n",
            "artist_name         0\n",
            "artist_pop          0\n",
            "album               0\n",
            "track_pop           0\n",
            "danceability        0\n",
            "energy              0\n",
            "loudness            0\n",
            "mode                0\n",
            "key                 0\n",
            "speechiness         0\n",
            "acousticness        0\n",
            "instrumentalness    0\n",
            "liveness            0\n",
            "valence             0\n",
            "tempo               0\n",
            "time_signature      0\n",
            "duration_ms         0\n",
            "dtype: int64\n"
          ]
        }
      ]
    },
    {
      "cell_type": "markdown",
      "source": [
        "Membersihkan nama kolom dengan menghapus spasi dan mengubahnya menjadi huruf kecil agar konsisten.\n",
        "\n",
        "Menampilkan daftar nama kolom dan jumlah nilai yang hilang (missing values) untuk setiap kolom."
      ],
      "metadata": {
        "id": "vbE_mzs3D07Z"
      }
    },
    {
      "cell_type": "markdown",
      "source": [
        "Drop missing values"
      ],
      "metadata": {
        "id": "i5InskXJ7llq"
      }
    },
    {
      "cell_type": "code",
      "source": [
        "df = df.dropna()"
      ],
      "metadata": {
        "id": "NNYBEznr3jGC"
      },
      "execution_count": 4,
      "outputs": []
    },
    {
      "cell_type": "markdown",
      "source": [
        "## Step 4: Pilih fitur numerik untuk clustering"
      ],
      "metadata": {
        "id": "AOzAGbUm7o0W"
      }
    },
    {
      "cell_type": "code",
      "source": [
        "features = ['danceability', 'energy', 'valence', 'duration_ms']\n",
        "X = df[features]"
      ],
      "metadata": {
        "id": "yKYjlCFm4xa8"
      },
      "execution_count": 5,
      "outputs": []
    },
    {
      "cell_type": "markdown",
      "source": [
        "Memilih fitur numerik yang relevan untuk clustering."
      ],
      "metadata": {
        "id": "TTxPRR2vEFV2"
      }
    },
    {
      "cell_type": "markdown",
      "source": [
        "## Step 5: Normalisasi fitur"
      ],
      "metadata": {
        "id": "GwFmYJPc70Yh"
      }
    },
    {
      "cell_type": "code",
      "source": [
        "scaler = StandardScaler()\n",
        "X_scaled = scaler.fit_transform(X)"
      ],
      "metadata": {
        "id": "5585mkp_5RiI"
      },
      "execution_count": 6,
      "outputs": []
    },
    {
      "cell_type": "markdown",
      "source": [
        "Menstandarisasi fitur numerik agar memiliki mean 0 dan standar deviasi 1. Ini penting untuk memastikan bahwa semua fitur memiliki kontribusi yang sama dalam proses clustering."
      ],
      "metadata": {
        "id": "46LI_6a8ENSx"
      }
    },
    {
      "cell_type": "markdown",
      "source": [
        "## Step 6: Tentukan jumlah cluster dengan Elbow Method"
      ],
      "metadata": {
        "id": "q4tii6GQ742v"
      }
    },
    {
      "cell_type": "code",
      "source": [
        "inertia = []\n",
        "k_range = range(1, 11)\n",
        "for k in k_range:\n",
        "    kmeans = KMeans(n_clusters=k, random_state=42, n_init=10)\n",
        "    kmeans.fit(X_scaled)\n",
        "    inertia.append(kmeans.inertia_)"
      ],
      "metadata": {
        "id": "LKoG-8lY5VPQ"
      },
      "execution_count": 7,
      "outputs": []
    },
    {
      "cell_type": "markdown",
      "source": [
        "Plot elbow"
      ],
      "metadata": {
        "id": "LrIzyFk57-F5"
      }
    },
    {
      "cell_type": "code",
      "source": [
        "plt.figure(figsize=(8,5))\n",
        "plt.plot(k_range, inertia, marker='o')\n",
        "plt.title('Elbow Method – Menentukan Jumlah Cluster Optimal')\n",
        "plt.xlabel('Jumlah Cluster')\n",
        "plt.ylabel('Inertia')\n",
        "plt.show()"
      ],
      "metadata": {
        "colab": {
          "base_uri": "https://localhost:8080/",
          "height": 487
        },
        "id": "8rR9NiG35pZf",
        "outputId": "c69122cd-a2cc-4a6c-9dde-0c3aae284965"
      },
      "execution_count": 8,
      "outputs": [
        {
          "output_type": "display_data",
          "data": {
            "text/plain": [
              "<Figure size 800x500 with 1 Axes>"
            ],
            "image/png": "[encoded data removed]"
          },
          "metadata": {}
        }
      ]
    },
    {
      "cell_type": "markdown",
      "source": [
        "Menggunakan Elbow Method untuk menentukan jumlah cluster optimal dengan memplot nilai inertia terhadap jumlah cluster.\n",
        "\n",
        "Titik \"siku\" pada grafik menunjukkan jumlah cluster yang optimal, yaitu titik di mana penurunan inertia mulai melambat."
      ],
      "metadata": {
        "id": "kv1Hc58DEX0E"
      }
    },
    {
      "cell_type": "markdown",
      "source": [
        "## Step 7: Buat model K-Means dengan jumlah cluster optimal (misal 3)"
      ],
      "metadata": {
        "id": "mUe2GBRn8ETJ"
      }
    },
    {
      "cell_type": "code",
      "source": [
        "kmeans = KMeans(n_clusters=3, random_state=42, n_init=10)\n",
        "df['cluster'] = kmeans.fit_predict(X_scaled)"
      ],
      "metadata": {
        "id": "KXh9fmOO6bV7"
      },
      "execution_count": 9,
      "outputs": []
    },
    {
      "cell_type": "markdown",
      "source": [
        "Membuat model K-Means dengan jumlah cluster yang telah ditentukan (misalnya 3).\n",
        "\n",
        "Menambahkan kolom baru cluster ke dalam DataFrame yang menunjukkan cluster masing-masing lagu.\n",
        "\n"
      ],
      "metadata": {
        "id": "EeeCvJeiEcjI"
      }
    },
    {
      "cell_type": "markdown",
      "source": [
        "## Step 8: Visualisasi hasil kluster"
      ],
      "metadata": {
        "id": "JAEwvwFC8N6T"
      }
    },
    {
      "cell_type": "code",
      "source": [
        "plt.figure(figsize=(10,6))\n",
        "sns.scatterplot(data=df, x='danceability', y='energy', hue='cluster', palette='Set2')\n",
        "plt.title('Kluster Lagu TikTok Berdasarkan Danceability dan Energy')\n",
        "plt.show()"
      ],
      "metadata": {
        "colab": {
          "base_uri": "https://localhost:8080/",
          "height": 564
        },
        "id": "DJN8Cuts6qIX",
        "outputId": "e9f58da5-507e-442f-aa26-ed0f1cb3a5c4"
      },
      "execution_count": 10,
      "outputs": [
        {
          "output_type": "display_data",
          "data": {
            "text/plain": [
              "<Figure size 1000x600 with 1 Axes>"
            ],
            "image/png": "[encoded data removed]"
          },
          "metadata": {}
        }
      ]
    },
    {
      "cell_type": "markdown",
      "source": [
        "Membuat scatter plot untuk visualisasi hasil clustering berdasarkan fitur danceability dan energy.\n",
        "\n",
        "Warna berbeda menunjukkan cluster yang berbeda."
      ],
      "metadata": {
        "id": "rGF6I6GVEh-p"
      }
    },
    {
      "cell_type": "markdown",
      "source": [
        "## Step 9: Cek ringkasan kluster"
      ],
      "metadata": {
        "id": "3GEn4AuB8Ua-"
      }
    },
    {
      "cell_type": "code",
      "source": [
        "cluster_summary = df.groupby('cluster')[features].mean()\n",
        "print(cluster_summary)"
      ],
      "metadata": {
        "colab": {
          "base_uri": "https://localhost:8080/"
        },
        "id": "-9kq9AOb6t44",
        "outputId": "db38b41b-862d-470e-f235-dae0a6ca3666"
      },
      "execution_count": 11,
      "outputs": [
        {
          "output_type": "stream",
          "name": "stdout",
          "text": [
            "         danceability    energy   valence    duration_ms\n",
            "cluster                                                 \n",
            "0            0.701124  0.785584  0.406712  150399.157303\n",
            "1            0.568804  0.621643  0.355604  197993.142857\n",
            "2            0.795602  0.633924  0.652593  181876.635593\n"
          ]
        }
      ]
    },
    {
      "cell_type": "markdown",
      "source": [
        "Menghitung rata-rata nilai fitur untuk setiap cluster guna memahami karakteristik masing-masing cluster.\n",
        "\n"
      ],
      "metadata": {
        "id": "Uj-YKLqFEm7G"
      }
    },
    {
      "cell_type": "markdown",
      "source": [
        "##Interpretasi Hasil Klustering\n",
        "Berdasarkan hasil clustering, berikut adalah interpretasi dari masing-masing cluster:\n",
        "\n",
        "Cluster 0: Lagu Enerjik dan Mudah Ditari\n",
        "Karakteristik:Danceability tinggi, energy tinggi, valence tinggi, durasi relatif pendek.\n",
        "\n",
        "Interpretasi: Lagu-lagu dalam cluster ini cenderung memiliki tempo cepat dan mood ceria, cocok untuk suasana pesta atau olahraga.\n",
        "\n",
        "Cluster 1: Lagu Santai dan Emosional\n",
        "Karakteristik: Danceability sedang, energy rendah, valence rendah, durasi lebih panjang\n",
        "\n",
        "Interpretasi: Lagu-lagu dalam cluster ini cenderung lambat dan emosional, cocok untuk suasana santai atau reflektif.\n",
        "\n",
        "Cluster 2: Lagu Ceria dan Sedang\n",
        "Karakteristik:Danceability sedang, energy sedang, valence tinggi, durasi sedang\n",
        "\n",
        "Interpretasi:\n",
        "Lagu-lagu dalam cluster ini memiliki mood ceria dengan tempo sedang, cocok untuk suasana sehari-hari atau latar belakang aktivitas."
      ],
      "metadata": {
        "id": "84YmgM99EuII"
      }
    },
    {
      "cell_type": "markdown",
      "source": [
        "##Rekomendasi Berdasarkan Hasil Analisis\n",
        "Berdasarkan hasil clustering, berikut adalah rekomendasi penggunaan lagu-lagu dari masing-masing cluster:\n",
        "\n",
        "Cluster 0:\n",
        "\n",
        "Penggunaan: Playlist untuk pesta, olahraga, atau aktivitas yang membutuhkan energi tinggi.\n",
        "\n",
        "Contoh: Lagu-lagu dengan beat cepat dan lirik yang membangkitkan semangat.\n",
        "\n",
        "Cluster 1:\n",
        "\n",
        "Penggunaan: Playlist untuk relaksasi, meditasi, atau suasana hati yang tenang.\n",
        "\n",
        "Contoh: Lagu-lagu dengan tempo lambat dan lirik yang mendalam.\n",
        "\n",
        "Cluster 2:\n",
        "\n",
        "Penggunaan: Playlist untuk aktivitas sehari-hari, seperti bekerja atau berkendara.\n",
        "\n",
        "Contoh: Lagu-lagu dengan mood ceria dan tempo sedang."
      ],
      "metadata": {
        "id": "QQKTLWzQFy7l"
      }
    }
  ]
}